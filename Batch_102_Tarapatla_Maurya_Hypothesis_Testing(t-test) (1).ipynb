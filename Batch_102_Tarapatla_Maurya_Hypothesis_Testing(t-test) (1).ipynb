{
 "cells": [
  {
   "cell_type": "code",
   "execution_count": null,
   "metadata": {},
   "outputs": [],
   "source": [
    " "
   ]
  },
  {
   "cell_type": "markdown",
   "metadata": {},
   "source": [
    "# Question 1"
   ]
  },
  {
   "cell_type": "code",
   "execution_count": 1,
   "metadata": {},
   "outputs": [],
   "source": [
    "import pandas as pd\n",
    "import numpy as np\n",
    "import seaborn as sns\n",
    "import matplotlib.pyplot as plt\n",
    "import random"
   ]
  },
  {
   "cell_type": "markdown",
   "metadata": {},
   "source": [
    "Q-1: Pista House selling Hyderabadi Chicken Dum biryani claims that each parcel packet\n",
    "has 500 grams of biryani (also mentioned on the label of packet). You are sceptic of their\n",
    "claims and believe that on average each packet does not contain 500 grams of biryani.\n",
    "How do you prove your claim? "
   ]
  },
  {
   "cell_type": "code",
   "execution_count": null,
   "metadata": {},
   "outputs": [],
   "source": [
    "Ho =Null Hypothesis = The weight of the packet is equal to 500 grams\n",
    "Ha =Alternate Hypothesis = The weight of the packet is NOT equal to 500 grams"
   ]
  },
  {
   "cell_type": "markdown",
   "metadata": {},
   "source": [
    "The z score is calculated from the below formula"
   ]
  },
  {
   "cell_type": "markdown",
   "metadata": {},
   "source": [
    "$$T - statistic = \\sqrt{\\frac{\\Sigma(sample mean(i) - population mean)^2}{sample size - 1}}$$"
   ]
  },
  {
   "cell_type": "markdown",
   "metadata": {},
   "source": [
    "$$ T - statistic  =  \\sqrt{\\frac{\\Sigma(X(i) - \\mu)^2}{n - 1}}$$"
   ]
  },
  {
   "cell_type": "code",
   "execution_count": 11,
   "metadata": {},
   "outputs": [
    {
     "data": {
      "text/plain": [
       "[460, 477, 426, 584, 501, 522, 439, 423, 417, 405]"
      ]
     },
     "execution_count": 11,
     "metadata": {},
     "output_type": "execute_result"
    }
   ],
   "source": [
    "random.seed(4)\n",
    "sample = random.sample(range(400,600),10)\n",
    "sample"
   ]
  },
  {
   "cell_type": "markdown",
   "metadata": {},
   "source": [
    "We have randomly choosen 10 numbers from the range 400 to 600."
   ]
  },
  {
   "cell_type": "code",
   "execution_count": 12,
   "metadata": {},
   "outputs": [
    {
     "data": {
      "text/plain": [
       "465.4"
      ]
     },
     "execution_count": 12,
     "metadata": {},
     "output_type": "execute_result"
    }
   ],
   "source": [
    "sample_mean = np.mean(sample)\n",
    "sample_mean"
   ]
  },
  {
   "cell_type": "code",
   "execution_count": 98,
   "metadata": {},
   "outputs": [],
   "source": [
    "# defining the population paramaeters\n",
    "pop_mean = 500"
   ]
  },
  {
   "cell_type": "code",
   "execution_count": 99,
   "metadata": {},
   "outputs": [
    {
     "data": {
      "text/plain": [
       "10"
      ]
     },
     "execution_count": 99,
     "metadata": {},
     "output_type": "execute_result"
    }
   ],
   "source": [
    "sample_size = len(sample)\n",
    "sample_size"
   ]
  },
  {
   "cell_type": "markdown",
   "metadata": {},
   "source": [
    "pop_mean = 500;   pop_std = 50;   sample_mean=465.4;   sample_size=10"
   ]
  },
  {
   "cell_type": "code",
   "execution_count": 22,
   "metadata": {},
   "outputs": [],
   "source": [
    "# calculating the Estimated Population Standard Deviation\n",
    "def est_pop_std(sample):\n",
    "    k=[]\n",
    "    for i in sample:\n",
    "        k.append(((i - pop_mean)**2)/(sample_size-1))\n",
    "    return (np.sqrt(np.sum(k))) "
   ]
  },
  {
   "cell_type": "code",
   "execution_count": 100,
   "metadata": {},
   "outputs": [
    {
     "data": {
      "text/plain": [
       "67.25573085866611"
      ]
     },
     "execution_count": 100,
     "metadata": {},
     "output_type": "execute_result"
    }
   ],
   "source": [
    "est_pop_std(sample)"
   ]
  },
  {
   "cell_type": "code",
   "execution_count": 101,
   "metadata": {},
   "outputs": [
    {
     "data": {
      "text/plain": [
       "21.268129521265692"
      ]
     },
     "execution_count": 101,
     "metadata": {},
     "output_type": "execute_result"
    }
   ],
   "source": [
    "# Calculating the Standard error of the sampling distribution\n",
    "std_error = est_pop_std(sample)/np.sqrt(sample_size)\n",
    "std_error"
   ]
  },
  {
   "cell_type": "markdown",
   "metadata": {},
   "source": [
    "pop_mean = 500\n",
    "est_pop_std = 67.26\n",
    "sample_mean = np.mean(sample) =  465.4\n",
    "std_error = 21.27\n",
    "sample_size = 10\n"
   ]
  },
  {
   "cell_type": "code",
   "execution_count": 102,
   "metadata": {},
   "outputs": [
    {
     "data": {
      "text/plain": [
       "-1.626847342894164"
      ]
     },
     "execution_count": 102,
     "metadata": {},
     "output_type": "execute_result"
    }
   ],
   "source": [
    "# Calculating the T statistic\n",
    "T_stat = ((sample_mean - pop_mean)/std_error)\n",
    "T_stat"
   ]
  },
  {
   "cell_type": "code",
   "execution_count": 46,
   "metadata": {},
   "outputs": [],
   "source": [
    "df = sample_size - 1"
   ]
  },
  {
   "cell_type": "code",
   "execution_count": 14,
   "metadata": {},
   "outputs": [],
   "source": [
    "import scipy.stats"
   ]
  },
  {
   "cell_type": "code",
   "execution_count": 103,
   "metadata": {},
   "outputs": [
    {
     "data": {
      "text/plain": [
       "2.2621571627409915"
      ]
     },
     "execution_count": 103,
     "metadata": {},
     "output_type": "execute_result"
    }
   ],
   "source": [
    "# Two tailed T critical value calculation\n",
    "from scipy.stats import t\n",
    "confidence_level = 0.95\n",
    "alpha = 1 - confidence_level\n",
    "T_critical = scipy.stats.t.ppf(q=1-.05/2,df=sample_size-1)\n",
    "T_critical"
   ]
  },
  {
   "cell_type": "markdown",
   "metadata": {},
   "source": [
    " Thus, if the test statistic is less than -2.26 or greater than 2.26, the results of the test are statistically significant."
   ]
  },
  {
   "cell_type": "markdown",
   "metadata": {},
   "source": [
    "If abs(t-statistic) <= critical value: Accept null hypothesis that the means are equal.\n",
    "If abs(t-statistic) > critical value: Reject the null hypothesis that the means are equal.\n",
    "\n",
    "If p > alpha: Accept null hypothesis that the means are equal.\n",
    "If p <= alpha: Reject null hypothesis that the means are equal."
   ]
  },
  {
   "cell_type": "code",
   "execution_count": 43,
   "metadata": {},
   "outputs": [
    {
     "name": "stdout",
     "output_type": "stream",
     "text": [
      "Fail to reject Null Hypothesis that the means are equal\n"
     ]
    }
   ],
   "source": [
    "# Conclusion using T test\n",
    "\n",
    "if(np.abs(T_stat) > T_critical): \n",
    "    # In the two tail test, if T_statistic is greater than the critical T score we can reject the Ho, and vice-versa\n",
    "    print('Reject Null Hypothesis that the means are equal')\n",
    "else:\n",
    "    print('Fail to reject Null Hypothesis that the means are equal')"
   ]
  },
  {
   "cell_type": "code",
   "execution_count": 51,
   "metadata": {},
   "outputs": [
    {
     "name": "stdout",
     "output_type": "stream",
     "text": [
      "p_value = 0.1382127866870213\n",
      "Fail to reject Null Hypothesis\n"
     ]
    }
   ],
   "source": [
    "# Conclusion using P test\n",
    "p_value = (1 - t.cdf(abs(T_stat), df)) * 2\n",
    "# Double the area which is left of the t score in the t graph\n",
    "# We take double value because it is two tailed i.e either greater or lesser than the original\n",
    "print('p_value =', p_value)\n",
    "if(p_value < alpha):\n",
    "    print('Reject Null Hypothesis')\n",
    "else:\n",
    "    print('Fail to reject Null Hypothesis')"
   ]
  },
  {
   "cell_type": "code",
   "execution_count": 15,
   "metadata": {},
   "outputs": [],
   "source": [
    "from scipy.stats import norm"
   ]
  },
  {
   "cell_type": "code",
   "execution_count": 119,
   "metadata": {
    "scrolled": false
   },
   "outputs": [
    {
     "name": "stdout",
     "output_type": "stream",
     "text": [
      "Sample mean is  465.4\n",
      "The acceptance region is between  451.8881484653657 and 548.1118515346343\n"
     ]
    },
    {
     "data": {
      "image/png": "[encoded data removed]",
      "text/plain": [
       "<Figure size 432x288 with 1 Axes>"
      ]
     },
     "metadata": {
      "needs_background": "light"
     },
     "output_type": "display_data"
    }
   ],
   "source": [
    "# Ploting the sampling distribution with rejection regions\n",
    "\n",
    "# Defining the x minimum and x maximum\n",
    "x_min = 400\n",
    "x_max = 600\n",
    "\n",
    "# Defining the sampling distribution mean and sampling distribution std\n",
    "mean = pop_mean\n",
    "std = est_pop_std / sample_size**0.5\n",
    "# Plotting the graph and setting the x limits\n",
    "x=np.linspace(x_min, x_max, 100)\n",
    "y = norm.pdf(x, mean, std) # Probability Density Function\n",
    "plt.xlim(x_min, x_max)\n",
    "plt.plot(x,y)\n",
    "\n",
    "# Computing the left and right critical values(Two tailed Tests)\n",
    "t_critical_left = pop_mean + (-T_critical * std) # Formula based\n",
    "t_critical_right = pop_mean + (T_critical * std)\n",
    "\n",
    "# Shading the left rejection region \n",
    "x1 = np.linspace(x_min, t_critical_left, 100)\n",
    "y1 = norm.pdf(x1, mean, std)\n",
    "plt.fill_between (x1, y1, color='orange')\n",
    "\n",
    "# Shading the right rejection region \n",
    "x2 = np.linspace(t_critical_right, x_max,  100)\n",
    "y2 = norm.pdf(x2, mean, std)\n",
    "plt.fill_between (x2, y2, color='orange')\n",
    "\n",
    "# Plotting the sample mean \n",
    "plt.scatter(sample_mean, 0)\n",
    "plt.annotate('x_bar', (sample_mean, 0.0007))\n",
    "print('Sample mean is ', sample_mean)\n",
    "print('The acceptance region is between ', t_critical_left,'and', t_critical_right)"
   ]
  },
  {
   "cell_type": "code",
   "execution_count": null,
   "metadata": {},
   "outputs": [],
   "source": [
    "# In this case sample mean falls in the acceptance region\n",
    "# i.e. here we fail to reject the Null Hypothesis"
   ]
  },
  {
   "cell_type": "raw",
   "metadata": {},
   "source": [
    "So the sample mean is equal to the population mean, which is 500 gm.\n",
    "So we can say with 95% confidence that the weight of the packet is equal to 500 grams."
   ]
  },
  {
   "cell_type": "markdown",
   "metadata": {},
   "source": [
    "# Question 2"
   ]
  },
  {
   "cell_type": "markdown",
   "metadata": {},
   "source": [
    "Q-2: You have developed a new Natural Language Processing Algorithms and done a\n",
    "user study. You claim that the average rating given by the users is greater than 4 on a\n",
    "scale of 1 to 5. How do you prove this to your client?"
   ]
  },
  {
   "cell_type": "raw",
   "metadata": {},
   "source": [
    "# Ho = Average Rating given by the user is > 4\n",
    "# Ha = Average Rating given by the user is <= 4"
   ]
  },
  {
   "cell_type": "code",
   "execution_count": 48,
   "metadata": {},
   "outputs": [
    {
     "data": {
      "text/plain": [
       "[4, 3, 5, 4, 5, 3, 5, 5, 4, 2, 4, 5, 5, 4, 4, 5, 4, 5, 4, 5]"
      ]
     },
     "execution_count": 48,
     "metadata": {},
     "output_type": "execute_result"
    }
   ],
   "source": [
    "# Let the sample of ratings be the below list of values.\n",
    "sample1 =  [4,3,5,4,5,3,5,5,4,2,4,5,5,4,4,5,4,5,4,5]\n",
    "sample1"
   ]
  },
  {
   "cell_type": "code",
   "execution_count": 49,
   "metadata": {},
   "outputs": [],
   "source": [
    "# Defining the sample and population paramaeters\n",
    "\n",
    "sample_mean = np.mean(sample1)\n",
    "sample_size = len (sample1)\n",
    "pop_mean = 4\n",
    "pop_std = 0.5"
   ]
  },
  {
   "cell_type": "code",
   "execution_count": 19,
   "metadata": {},
   "outputs": [
    {
     "data": {
      "text/plain": [
       "4.25"
      ]
     },
     "execution_count": 19,
     "metadata": {},
     "output_type": "execute_result"
    }
   ],
   "source": [
    "sample_mean"
   ]
  },
  {
   "cell_type": "code",
   "execution_count": 20,
   "metadata": {},
   "outputs": [
    {
     "data": {
      "text/plain": [
       "20"
      ]
     },
     "execution_count": 20,
     "metadata": {},
     "output_type": "execute_result"
    }
   ],
   "source": [
    "sample_size"
   ]
  },
  {
   "cell_type": "code",
   "execution_count": 50,
   "metadata": {},
   "outputs": [
    {
     "data": {
      "text/plain": [
       "0.8885233166386384"
      ]
     },
     "execution_count": 50,
     "metadata": {},
     "output_type": "execute_result"
    }
   ],
   "source": [
    "est_pop_std(sample1)"
   ]
  },
  {
   "cell_type": "code",
   "execution_count": 51,
   "metadata": {},
   "outputs": [
    {
     "data": {
      "text/plain": [
       "0.19867985355975654"
      ]
     },
     "execution_count": 51,
     "metadata": {},
     "output_type": "execute_result"
    }
   ],
   "source": [
    "std_error = est_pop_std(sample1)/np.sqrt(sample_size)\n",
    "std_error"
   ]
  },
  {
   "cell_type": "code",
   "execution_count": 52,
   "metadata": {},
   "outputs": [
    {
     "data": {
      "text/plain": [
       "1.2583057392117918"
      ]
     },
     "execution_count": 52,
     "metadata": {},
     "output_type": "execute_result"
    }
   ],
   "source": [
    "T_stat = ((sample_mean - pop_mean)/std_error)\n",
    "T_stat"
   ]
  },
  {
   "cell_type": "code",
   "execution_count": 53,
   "metadata": {},
   "outputs": [
    {
     "data": {
      "text/plain": [
       "1.729132811521367"
      ]
     },
     "execution_count": 53,
     "metadata": {},
     "output_type": "execute_result"
    }
   ],
   "source": [
    "# Right tail T critical value calculation\n",
    "from scipy.stats import t\n",
    "confidence_level = 0.95\n",
    "alpha = 1 - confidence_level\n",
    "T_critical = scipy.stats.t.ppf(q=1-0.05,df=sample_size-1)\n",
    "T_critical"
   ]
  },
  {
   "cell_type": "code",
   "execution_count": 54,
   "metadata": {
    "scrolled": false
   },
   "outputs": [
    {
     "name": "stdout",
     "output_type": "stream",
     "text": [
      "Sample mean is  4.25\n",
      "The rejection region is the region after  4.343543853778435\n"
     ]
    },
    {
     "data": {
      "image/png": "[encoded data removed]",
      "text/plain": [
       "<Figure size 432x288 with 1 Axes>"
      ]
     },
     "metadata": {
      "needs_background": "light"
     },
     "output_type": "display_data"
    }
   ],
   "source": [
    "# Ploting the sampling distribution with rejection regions\n",
    "# Defining the x minimum and x maximum\n",
    "x_min = 3\n",
    "x_max = 5\n",
    "\n",
    "# Defining the sampling distribution mean and sampling distribution std\n",
    "mean = pop_mean\n",
    "#std = pop_std / sample_size**0.5\n",
    "std = est_pop_std(sample1) / sample_size**0.5\n",
    "# Plotting the graph and setting the x limits\n",
    "x=np.linspace(x_min, x_max, 100)\n",
    "y = norm.pdf(x, mean, std) # Probability Density Function\n",
    "plt.xlim(x_min, x_max)\n",
    "plt.plot(x,y)\n",
    "\n",
    "# Computing the right critical value:\n",
    "t_critical_right = pop_mean + (np.abs(T_critical) * std) # Formula based\n",
    "\n",
    "# Shading the right rejection region \n",
    "x1 = np.linspace(t_critical_right, x_max, 100)\n",
    "y1 = norm.pdf(x1, mean, std)\n",
    "plt.fill_between (x1, y1, color='orange')\n",
    "\n",
    "\n",
    "# Plotting the sample mean \n",
    "plt.scatter(sample_mean, 0)\n",
    "plt.annotate('x_bar', (sample_mean, 0.0007))\n",
    "print('Sample mean is ', sample_mean)\n",
    "print('The rejection region is the region after ', t_critical_right)"
   ]
  },
  {
   "cell_type": "code",
   "execution_count": null,
   "metadata": {},
   "outputs": [],
   "source": [
    "# In this case sample mean falls in the Acceptance region\n",
    "# i.e. So we fail to reject the Null Hypothesis"
   ]
  },
  {
   "cell_type": "markdown",
   "metadata": {},
   "source": [
    "Thus, if the test statistic is less than T_critical value, the results of the test are statistically significant.\n",
    "\n",
    "If abs(t-statistic) >= critical value: Reject null hypothesis, i.e sample mean is less than the population mean. \n",
    "If abs(t-statistic) > critical value: Fail to reject the null hypothesis.\n",
    "\n",
    "If p > alpha: Accept null hypothesis that the means are equal. \n",
    "If p <= alpha: Reject null hypothesis that the means are equal."
   ]
  },
  {
   "cell_type": "code",
   "execution_count": 55,
   "metadata": {},
   "outputs": [],
   "source": [
    "df = sample_size - 1"
   ]
  },
  {
   "cell_type": "code",
   "execution_count": 56,
   "metadata": {},
   "outputs": [
    {
     "name": "stdout",
     "output_type": "stream",
     "text": [
      "Fail to reject Null Hypothesis\n",
      "p_value = 0.11176244560925686\n",
      "Fail to reject Null Hypothesis\n"
     ]
    }
   ],
   "source": [
    "# Conclusion using T test\n",
    "\n",
    "if(np.abs(T_stat) > T_critical): \n",
    "    # For right tail T critical value, if T_statistic is lesser than the critical T score we can reject the Ho, and vice-versa\n",
    "    print('Reject Null Hypothesis')\n",
    "else:\n",
    "    print('Fail to reject Null Hypothesis')\n",
    "# Conclusion using P test\n",
    "p_value = (1 - t.cdf(abs(T_stat), df)) \n",
    "print('p_value =', p_value)\n",
    "if(p_value < alpha):\n",
    "    print('Reject Null Hypothesis')\n",
    "else:\n",
    "    print('Fail to reject Null Hypothesis')"
   ]
  },
  {
   "cell_type": "markdown",
   "metadata": {},
   "source": [
    "So we can say with 95% confidence that Ha(Average Rating given by the user is GREATER THAN 4) is true"
   ]
  },
  {
   "cell_type": "markdown",
   "metadata": {},
   "source": [
    "# Question 3"
   ]
  },
  {
   "cell_type": "markdown",
   "metadata": {},
   "source": [
    "Q-3: TATA has developed a better fuel management system for the SUV segment. They\n",
    "claim that with this system, on average the SUV's mileage is at least 15 km/litre?"
   ]
  },
  {
   "cell_type": "markdown",
   "metadata": {},
   "source": [
    "Ho = Average SUV mileage is >= 15 km/l\n",
    "Ha = Average SUV mileage is < 15km/l"
   ]
  },
  {
   "cell_type": "code",
   "execution_count": 57,
   "metadata": {},
   "outputs": [
    {
     "data": {
      "text/plain": [
       "15.098999999999998"
      ]
     },
     "execution_count": 57,
     "metadata": {},
     "output_type": "execute_result"
    }
   ],
   "source": [
    "l = [14.08,14.13,15.65,13.78,16.26,14.97,15.36,15.81,14.53,16.79,15.78,16.98,13.23,15.43,15.46,13.88,14.31,14.41,15.76,15.38]\n",
    "sum(l) / len(l)"
   ]
  },
  {
   "cell_type": "code",
   "execution_count": 58,
   "metadata": {},
   "outputs": [],
   "source": [
    "sample_size = 20\n",
    "sample_mean = 15.1\n",
    "pop_mean = 15\n",
    "est_pop_std1=est_pop_std(l)"
   ]
  },
  {
   "cell_type": "code",
   "execution_count": 59,
   "metadata": {},
   "outputs": [
    {
     "data": {
      "text/plain": [
       "1.0303857223594013"
      ]
     },
     "execution_count": 59,
     "metadata": {},
     "output_type": "execute_result"
    }
   ],
   "source": [
    "est_pop_std1"
   ]
  },
  {
   "cell_type": "code",
   "execution_count": 60,
   "metadata": {},
   "outputs": [
    {
     "name": "stdout",
     "output_type": "stream",
     "text": [
      "Tstat: 0.4340254196029777 Std_Error: 0.2304012518240846\n"
     ]
    }
   ],
   "source": [
    "std_error = est_pop_std1/sample_size**0.5\n",
    "T_stat = (sample_mean - pop_mean) / std_error\n",
    "print('Tstat:',T_stat,'Std_Error:',std_error)"
   ]
  },
  {
   "cell_type": "code",
   "execution_count": 61,
   "metadata": {},
   "outputs": [
    {
     "data": {
      "text/plain": [
       "1.729132811521367"
      ]
     },
     "execution_count": 61,
     "metadata": {},
     "output_type": "execute_result"
    }
   ],
   "source": [
    "# Right tail T critical value calculation\n",
    "from scipy.stats import t\n",
    "confidence_level = 0.95\n",
    "alpha = 1 - confidence_level\n",
    "T_critical = scipy.stats.t.ppf(q=1-0.05,df=sample_size-1)\n",
    "T_critical"
   ]
  },
  {
   "cell_type": "code",
   "execution_count": 62,
   "metadata": {},
   "outputs": [
    {
     "name": "stdout",
     "output_type": "stream",
     "text": [
      "Sample mean is  15.1\n",
      "The rejection region is the region after  19.27708648704764\n"
     ]
    },
    {
     "data": {
      "image/png": "[encoded data removed]",
      "text/plain": [
       "<Figure size 432x288 with 1 Axes>"
      ]
     },
     "metadata": {
      "needs_background": "light"
     },
     "output_type": "display_data"
    }
   ],
   "source": [
    "x_min = 0\n",
    "x_max = 30\n",
    "\n",
    "# Defining the sampling distribution mean and sampling distribution std\n",
    "mean = pop_mean\n",
    "#std = pop_std / sample_size**0.5\n",
    "std = est_pop_std(sample1) / sample_size**0.5\n",
    "# Plotting the graph and setting the x limits\n",
    "x=np.linspace(x_min, x_max, 100)\n",
    "y = norm.pdf(x, mean, std) # Probability Density Function\n",
    "plt.xlim(x_min, x_max)\n",
    "plt.plot(x,y)\n",
    "\n",
    "# Computing the right critical value\n",
    "t_critical_right = pop_mean + (np.abs(T_critical) * std) # Formula based\n",
    "\n",
    "# Shading the right rejection region \n",
    "x1 = np.linspace(t_critical_right, x_max, 100)\n",
    "y1 = norm.pdf(x1, mean, std)\n",
    "plt.fill_between (x1, y1, color='orange')\n",
    "\n",
    "\n",
    "# Plotting the sample mean \n",
    "plt.scatter(sample_mean, 0)\n",
    "plt.annotate('x_bar', (sample_mean, 0.0007))\n",
    "print('Sample mean is ', sample_mean)\n",
    "print('The rejection region is the region after ', t_critical_right)"
   ]
  },
  {
   "cell_type": "markdown",
   "metadata": {},
   "source": [
    "In this case sample mean falls in the acceptance region i.e. Fail to Reject the Null Hypothesis"
   ]
  },
  {
   "cell_type": "markdown",
   "metadata": {},
   "source": [
    "Thus, if the test statistic is less than T_critical value, the results of the test are statistically significant.\n",
    "\n",
    "If abs(t-statistic) >= critical value: Reject null hypothesis, i.e sample mean is less than the population mean. \n",
    "If abs(t-statistic) > critical value: Fail to reject the null hypothesis.\n",
    "\n",
    "If p > alpha: Accept null hypothesis that the means are equal. \n",
    "If p <= alpha: Reject null hypothesis that the means are equal."
   ]
  },
  {
   "cell_type": "code",
   "execution_count": 63,
   "metadata": {},
   "outputs": [
    {
     "data": {
      "text/plain": [
       "19"
      ]
     },
     "execution_count": 63,
     "metadata": {},
     "output_type": "execute_result"
    }
   ],
   "source": [
    "df = sample_size - 1\n",
    "df"
   ]
  },
  {
   "cell_type": "code",
   "execution_count": 65,
   "metadata": {},
   "outputs": [
    {
     "name": "stdout",
     "output_type": "stream",
     "text": [
      "Fail to reject Null Hypothesis\n",
      "p_value = 0.33457924445188914\n",
      "Fail to reject Null Hypothesis\n"
     ]
    }
   ],
   "source": [
    "# Conclusion using T test\n",
    "\n",
    "if(np.abs(T_stat) >= T_critical): \n",
    "    # For left tail T critical value, if T_statistic is lesser than the critical T score we can reject the Ho, and vice-versa\n",
    "    print('Reject Null Hypothesis')\n",
    "else:\n",
    "    print('Fail to reject Null Hypothesis')\n",
    "# Conclusion using P test\n",
    "p_value = (1 - t.cdf(abs(T_stat), df))\n",
    "print('p_value =', p_value)\n",
    "if(p_value < alpha):\n",
    "    print('Reject Null Hypothesis')\n",
    "else:\n",
    "    print('Fail to reject Null Hypothesis')"
   ]
  },
  {
   "cell_type": "markdown",
   "metadata": {},
   "source": [
    "Hence we can say with 95% confidence that we accept the Ha(Average SUV mileage is MORE THAN 15 km/l)"
   ]
  },
  {
   "cell_type": "markdown",
   "metadata": {},
   "source": [
    "# Question 4"
   ]
  },
  {
   "cell_type": "markdown",
   "metadata": {},
   "source": [
    "Q-4: You have developed a new Machine Learning Application and claim that on average\n",
    "it takes less than 100 ms to predict for any future datapoint. How do you convince your\n",
    "client about this claim?"
   ]
  },
  {
   "cell_type": "markdown",
   "metadata": {},
   "source": [
    "Ho = Average Time taken is < 100ms\n",
    "Ha = Average Time taken is > 100ms"
   ]
  },
  {
   "cell_type": "code",
   "execution_count": 66,
   "metadata": {},
   "outputs": [],
   "source": [
    "sample_size = 100\n",
    "sample_mean = 97.5\n",
    "pop_mean = 100\n",
    "est_pop_std2=est_pop_std(l)"
   ]
  },
  {
   "cell_type": "code",
   "execution_count": 67,
   "metadata": {},
   "outputs": [
    {
     "name": "stdout",
     "output_type": "stream",
     "text": [
      "Tstat: -0.6550881076627955 Std_Error: 3.8162805441842442\n"
     ]
    }
   ],
   "source": [
    "std_error = est_pop_std2/sample_size**0.5\n",
    "T_stat = (sample_mean - pop_mean) / std_error\n",
    "print('Tstat:',T_stat,'Std_Error:',std_error)"
   ]
  },
  {
   "cell_type": "code",
   "execution_count": 76,
   "metadata": {},
   "outputs": [
    {
     "data": {
      "text/plain": [
       "1.6603911559963895"
      ]
     },
     "execution_count": 76,
     "metadata": {},
     "output_type": "execute_result"
    }
   ],
   "source": [
    "# Left tail T critical value calculation\n",
    "from scipy.stats import t\n",
    "confidence_level = 0.95\n",
    "alpha = 1 - confidence_level\n",
    "T_critical = scipy.stats.t.ppf(q=1 - 0.05,df=sample_size-1)\n",
    "T_critical"
   ]
  },
  {
   "cell_type": "code",
   "execution_count": 77,
   "metadata": {
    "scrolled": true
   },
   "outputs": [
    {
     "name": "stdout",
     "output_type": "stream",
     "text": [
      "Sample mean is  97.5\n",
      "The rejection region is the region before 92.85400220944923\n"
     ]
    },
    {
     "data": {
      "image/png": "[encoded data removed]",
      "text/plain": [
       "<Figure size 432x288 with 1 Axes>"
      ]
     },
     "metadata": {
      "needs_background": "light"
     },
     "output_type": "display_data"
    }
   ],
   "source": [
    "x_min = 70\n",
    "x_max = 130\n",
    "\n",
    "# Defining the sampling distribution mean and sampling distribution std\n",
    "mean = pop_mean\n",
    "#std = pop_std / sample_size**0.5\n",
    "std = est_pop_std(sample1) / sample_size**0.5\n",
    "# Plotting the graph and setting the x limits\n",
    "x=np.linspace(x_min, x_max, 100)\n",
    "y = norm.pdf(x, mean, std) # Probability Density Function\n",
    "plt.xlim(x_min, x_max)\n",
    "plt.plot(x,y)\n",
    "\n",
    "# Computing the left critical values\n",
    "t_critical_left = pop_mean + (-(np.abs(T_critical)) * std) # Formula based\n",
    "\n",
    "# Shading the left rejection region \n",
    "x1 = np.linspace(x_min, t_critical_left, 100)\n",
    "y1 = norm.pdf(x1, mean, std)\n",
    "plt.fill_between (x1, y1, color='orange')\n",
    "\n",
    "\n",
    "# Plotting the sample mean\n",
    "plt.scatter(sample_mean, 0)\n",
    "plt.annotate('x_bar', (sample_mean, 0.0007))\n",
    "print('Sample mean is ', sample_mean)\n",
    "print('The rejection region is the region before', t_critical_left)"
   ]
  },
  {
   "cell_type": "markdown",
   "metadata": {},
   "source": [
    "In this case sample mean falls in the acceptance region i.e. we fail to reject Null Hypothesis"
   ]
  },
  {
   "cell_type": "code",
   "execution_count": 93,
   "metadata": {},
   "outputs": [],
   "source": [
    "df = sample_size - 1"
   ]
  },
  {
   "cell_type": "code",
   "execution_count": 78,
   "metadata": {},
   "outputs": [
    {
     "name": "stdout",
     "output_type": "stream",
     "text": [
      "Fail to reject Null Hypothesis\n",
      "p_value = 0.2601320485753633\n",
      "Fail to reject Null Hypothesis\n"
     ]
    }
   ],
   "source": [
    "# Conclusion using T test\n",
    "\n",
    "if(np.abs(T_stat) < -(T_critical)): \n",
    "    # For left tail T critical value, if T_statistic is lesser than the critical T score we can reject the Ho, and vice-versa\n",
    "    print('Reject Null Hypothesis')\n",
    "else:\n",
    "    print('Fail to reject Null Hypothesis')\n",
    "# Conclusion using P test\n",
    "p_value = (1 - t.cdf(abs(T_stat), df)) \n",
    "print('p_value =', p_value)\n",
    "if(p_value < alpha):\n",
    "    print('Reject Null Hypothesis')\n",
    "else:\n",
    "    print('Fail to reject Null Hypothesis')"
   ]
  },
  {
   "cell_type": "markdown",
   "metadata": {},
   "source": [
    "Hence, we can say with 95% confidence that Alternate Hypothesis(Ha = Average Time taken is LESS THAN 100ms) is true."
   ]
  }
 ],
 "metadata": {
  "kernelspec": {
   "display_name": "Python 3",
   "language": "python",
   "name": "python3"
  },
  "language_info": {
   "codemirror_mode": {
    "name": "ipython",
    "version": 3
   },
   "file_extension": ".py",
   "mimetype": "text/x-python",
   "name": "python",
   "nbconvert_exporter": "python",
   "pygments_lexer": "ipython3",
   "version": "3.8.5"
  }
 },
 "nbformat": 4,
 "nbformat_minor": 4
}
